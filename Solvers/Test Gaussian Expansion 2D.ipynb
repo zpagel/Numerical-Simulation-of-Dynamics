{
 "cells": [
  {
   "cell_type": "code",
   "execution_count": 1,
   "metadata": {},
   "outputs": [
    {
     "name": "stderr",
     "output_type": "stream",
     "text": [
      "┌ Info: Precompiling DiffEqOperators [9fdde737-9c7f-55bf-ade8-46b3f136cc48]\n",
      "└ @ Base loading.jl:1242\n",
      "┌ Warning: Replacing docs for `DiffEqOperators.PeriodicBC :: Union{}` in module `DiffEqOperators`\n",
      "└ @ Base.Docs docs\\Docs.jl:223\n",
      "┌ Warning: Replacing docs for `DiffEqOperators.RobinBC :: Union{}` in module `DiffEqOperators`\n",
      "└ @ Base.Docs docs\\Docs.jl:223\n"
     ]
    },
    {
     "data": {
      "text/plain": [
       "9×11 BandedMatrix{Float64,Array{Float64,2},Base.OneTo{Int64}}:\n",
       " 4.94066e-324  10.0           …    ⋅              ⋅     ⋅    ⋅ \n",
       " 0.0            0.0                ⋅              ⋅     ⋅    ⋅ \n",
       " 0.0            0.0                ⋅              ⋅     ⋅    ⋅ \n",
       " 4.94066e-324   0.0               1.18572e-315    ⋅     ⋅    ⋅ \n",
       " 4.94066e-324   4.94066e-324      1.18572e-315   0.0    ⋅    ⋅ \n",
       "  ⋅             0.0           …   1.18572e-315   0.0   0.0   ⋅ \n",
       "  ⋅              ⋅               10.0            0.0   0.0  0.0\n",
       "  ⋅              ⋅                1.18574e-315  10.0   0.0  0.0\n",
       "  ⋅              ⋅                1.18574e-315   0.0  10.0  0.0"
      ]
     },
     "execution_count": 1,
     "metadata": {},
     "output_type": "execute_result"
    }
   ],
   "source": [
    "using DiffEqOperators\n",
    "using BandedMatrices\n",
    "using LinearAlgebra\n",
    "using LazyArrays\n",
    "\n",
    "order = 2\n",
    "deriv = 2\n",
    "Δx = 0.1\n",
    "N = 9\n",
    "v = rand(N);\n",
    "A = CenteredDifference{1}(deriv, order, Δx, N) + CenteredDifference{2}(deriv, order, Δx, N)\n",
    "T = BandedMatrix(CenteredDifference(2, 2, Δx, N))\n",
    "Pair{<:Integer,<:AbstractVector}\n",
    "D = similar(T)\n",
    "for i = 1:9\n",
    "    D[i,i+1] = 10.\n",
    "end\n",
    "D"
   ]
  },
  {
   "cell_type": "code",
   "execution_count": 2,
   "metadata": {
    "scrolled": true
   },
   "outputs": [
    {
     "data": {
      "text/plain": [
       "gaussseidel (generic function with 1 method)"
      ]
     },
     "execution_count": 2,
     "metadata": {},
     "output_type": "execute_result"
    }
   ],
   "source": [
    "###########\n",
    "# This gives an example of Gauss–Seidel\n",
    "#\n",
    "###########\n",
    "\n",
    "using BlockBandedMatrices, BandedMatrices, FillArrays, ArrayLayouts, SparseArrays\n",
    "using LinearAlgebra\n",
    "using LazyArrays\n",
    "using LazyBandedMatrices\n",
    "\n",
    "function finitedifference_2d(n)\n",
    "    h = 1/n\n",
    "    D² = BandedMatrix(0 => Fill(-2,n), 1 => Fill(1,n-1), -1 => Fill(1,n-1))/h^2\n",
    "    D_xx = BandedBlockBandedMatrix(Kron(D², Eye(n)))\n",
    "    print(size(D_xx))\n",
    "    D_yy = BandedBlockBandedMatrix(Kron(Eye(n), D²))\n",
    "    D_xx + D_yy\n",
    "end\n",
    "\n",
    "function finitedifference_2d_test(n)\n",
    "    h = 1/n\n",
    "    D = BandedBlockBandedMatrix(Zeros(n^2,n^2), (Fill(n,n), Fill(n,n)), (1,1), (1,1))\n",
    "    Id = BandedBlockBandedMatrix(I, (Fill(n,n), Fill(n,n)), (1,1), (1,1))\n",
    "    D² = BandedMatrix(0 => Fill(-2,n), 1 => Fill(1,n-1), -1 => Fill(1,n-1))/h^2\n",
    "    view(D,Block(1,1))[band(0)] .= -2\n",
    "    view(D,Block(1,1))[band(1)] .= 1\n",
    "    view(D,Block(1,1))[band(-1)] .= 1\n",
    "    for K = 2:n\n",
    "      view(D,Block(K,K))[band(1)] .= 1\n",
    "      view(D,Block(K,K))[band(0)] .= -2\n",
    "      view(D,Block(K,K))[band(-1)] .= 1\n",
    "      view(D,Block(K,K-1))[band(0)] .= 1\n",
    "      view(D,Block(K-1,K))[band(0)] .= 1\n",
    "    end\n",
    "    #D_xx = BandedBlockBandedMatrix(Kron(D², Eye(n)))\n",
    "    #print(size(D_xx))\n",
    "    #D_yy = BandedBlockBandedMatrix(Kron(Eye(n), D²))\n",
    "    #D_xx + D_yy\n",
    "    D - Id\n",
    "end\n",
    "\n",
    "function _gaussseidel(L, U, b, x=copy(b), y=copy(b), M=5)\n",
    "    for _=1:M\n",
    "        @view(y[1:end-1]) .= Mul(U , @view(x[2:end]))\n",
    "        y[end] = 0\n",
    "        x .= b .- y\n",
    "        x .= Ldiv(L, x)\n",
    "    end\n",
    "    x\n",
    "end\n",
    "\n",
    "function _gaussseidel2(L, U, b, x=copy(b), y=copy(b), M=5)\n",
    "    for _=1:M\n",
    "        mul!(@view(y[1:end-1]) , U , @view(x[2:end]))\n",
    "        y[end] = 0\n",
    "        y .= b .- y\n",
    "        x .= L\\ y\n",
    "    end\n",
    "    x\n",
    "end\n",
    "\n",
    "function gaussseidel(A, b, M)\n",
    "    n = Int(sqrt(length(b)))\n",
    "    L = LowerTriangular(A)\n",
    "    U = BandedBlockBandedMatrix(UpperTriangular(@view(A[1:end-1,2:end])), ([fill(n,n-1); n-1], [n-1; fill(n,n-1)]),\n",
    "                                            (0,1), (0,1))\n",
    "    x = copy(b)\n",
    "    _gaussseidel(L,U, b, x, copy(x), M) # 1.6s\n",
    "    x\n",
    "end"
   ]
  },
  {
   "cell_type": "code",
   "execution_count": 3,
   "metadata": {},
   "outputs": [
    {
     "name": "stdout",
     "output_type": "stream",
     "text": [
      "  6.954917 seconds (17.47 M allocations: 784.097 MiB, 5.24% gc time)\n"
     ]
    },
    {
     "data": {
      "text/plain": [
       "200×200-blocked 40000×40000 BandedBlockBandedMatrix{Float64,BlockArrays.PseudoBlockArray{Float64,2,Array{Float64,2},BlockArrays.BlockSizes{2,Tuple{Array{Int64,1},Array{Int64,1}}}}}:\n",
       " -3.0   1.0    ⋅     ⋅     ⋅     ⋅   …    ⋅     ⋅     ⋅     ⋅     ⋅     ⋅ \n",
       "  1.0  -3.0   1.0    ⋅     ⋅     ⋅        ⋅     ⋅     ⋅     ⋅     ⋅     ⋅ \n",
       "   ⋅    1.0  -3.0   1.0    ⋅     ⋅        ⋅     ⋅     ⋅     ⋅     ⋅     ⋅ \n",
       "   ⋅     ⋅    1.0  -3.0   1.0    ⋅        ⋅     ⋅     ⋅     ⋅     ⋅     ⋅ \n",
       "   ⋅     ⋅     ⋅    1.0  -3.0   1.0       ⋅     ⋅     ⋅     ⋅     ⋅     ⋅ \n",
       "   ⋅     ⋅     ⋅     ⋅    1.0  -3.0  …    ⋅     ⋅     ⋅     ⋅     ⋅     ⋅ \n",
       "   ⋅     ⋅     ⋅     ⋅     ⋅    1.0       ⋅     ⋅     ⋅     ⋅     ⋅     ⋅ \n",
       "   ⋅     ⋅     ⋅     ⋅     ⋅     ⋅        ⋅     ⋅     ⋅     ⋅     ⋅     ⋅ \n",
       "   ⋅     ⋅     ⋅     ⋅     ⋅     ⋅        ⋅     ⋅     ⋅     ⋅     ⋅     ⋅ \n",
       "   ⋅     ⋅     ⋅     ⋅     ⋅     ⋅        ⋅     ⋅     ⋅     ⋅     ⋅     ⋅ \n",
       "   ⋅     ⋅     ⋅     ⋅     ⋅     ⋅   …    ⋅     ⋅     ⋅     ⋅     ⋅     ⋅ \n",
       "   ⋅     ⋅     ⋅     ⋅     ⋅     ⋅        ⋅     ⋅     ⋅     ⋅     ⋅     ⋅ \n",
       "   ⋅     ⋅     ⋅     ⋅     ⋅     ⋅        ⋅     ⋅     ⋅     ⋅     ⋅     ⋅ \n",
       "  ⋮                             ⋮    ⋱         ⋮                          \n",
       "   ⋅     ⋅     ⋅     ⋅     ⋅     ⋅        ⋅     ⋅     ⋅     ⋅     ⋅     ⋅ \n",
       "   ⋅     ⋅     ⋅     ⋅     ⋅     ⋅        ⋅     ⋅     ⋅     ⋅     ⋅     ⋅ \n",
       "   ⋅     ⋅     ⋅     ⋅     ⋅     ⋅   …    ⋅     ⋅     ⋅     ⋅     ⋅     ⋅ \n",
       "   ⋅     ⋅     ⋅     ⋅     ⋅     ⋅        ⋅     ⋅     ⋅     ⋅     ⋅     ⋅ \n",
       "   ⋅     ⋅     ⋅     ⋅     ⋅     ⋅        ⋅     ⋅     ⋅     ⋅     ⋅     ⋅ \n",
       "   ⋅     ⋅     ⋅     ⋅     ⋅     ⋅       1.0    ⋅     ⋅     ⋅     ⋅     ⋅ \n",
       "   ⋅     ⋅     ⋅     ⋅     ⋅     ⋅      -3.0   1.0    ⋅     ⋅     ⋅     ⋅ \n",
       "   ⋅     ⋅     ⋅     ⋅     ⋅     ⋅   …   1.0  -3.0   1.0    ⋅     ⋅     ⋅ \n",
       "   ⋅     ⋅     ⋅     ⋅     ⋅     ⋅        ⋅    1.0  -3.0   1.0    ⋅     ⋅ \n",
       "   ⋅     ⋅     ⋅     ⋅     ⋅     ⋅        ⋅     ⋅    1.0  -3.0   1.0    ⋅ \n",
       "   ⋅     ⋅     ⋅     ⋅     ⋅     ⋅        ⋅     ⋅     ⋅    1.0  -3.0   1.0\n",
       "   ⋅     ⋅     ⋅     ⋅     ⋅     ⋅        ⋅     ⋅     ⋅     ⋅    1.0  -3.0"
      ]
     },
     "execution_count": 3,
     "metadata": {},
     "output_type": "execute_result"
    }
   ],
   "source": [
    "#finitedifference_2d(5)\n",
    "n = 200;\n",
    "using BandedMatrices\n",
    "b1 = BandedMatrix(0 => Fill(1.,n))\n",
    "b2 = 2*copy(b1)\n",
    "b1\n",
    "\n",
    "@time finitedifference_2d_test(n)"
   ]
  },
  {
   "cell_type": "code",
   "execution_count": 4,
   "metadata": {},
   "outputs": [
    {
     "data": {
      "text/plain": [
       "3×3-blocked 9×9 BandedBlockBandedMatrix{Float64,BlockArrays.PseudoBlockArray{Float64,2,Array{Float64,2},BlockArrays.BlockSizes{2,Tuple{Array{Int64,1},Array{Int64,1}}}}}:\n",
       " -4.0   1.0    ⋅   │   0.0   0.0    ⋅   │    ⋅     ⋅     ⋅ \n",
       "  1.0  -4.0   1.0  │   0.0   0.0   0.0  │    ⋅     ⋅     ⋅ \n",
       "   ⋅    1.0  -4.0  │    ⋅    0.0   0.0  │    ⋅     ⋅     ⋅ \n",
       " ──────────────────┼────────────────────┼──────────────────\n",
       "  0.0   0.0    ⋅   │  -4.0   1.0    ⋅   │   0.0   0.0    ⋅ \n",
       "  0.0   0.0   0.0  │   1.0  -4.0   1.0  │   0.0   0.0   0.0\n",
       "   ⋅    0.0   0.0  │    ⋅    1.0  -4.0  │    ⋅    0.0   0.0\n",
       " ──────────────────┼────────────────────┼──────────────────\n",
       "   ⋅     ⋅     ⋅   │   0.0   0.0    ⋅   │  -4.0   1.0    ⋅ \n",
       "   ⋅     ⋅     ⋅   │   0.0   0.0   0.0  │   1.0  -4.0   1.0\n",
       "   ⋅     ⋅     ⋅   │    ⋅    0.0   0.0  │    ⋅    1.0  -4.0"
      ]
     },
     "execution_count": 4,
     "metadata": {},
     "output_type": "execute_result"
    }
   ],
   "source": [
    "Nx = 3; \n",
    "\n",
    "A = BandedBlockBandedMatrix(Zeros(Nx^2,Nx^2), (Fill(Nx,Nx), Fill(Nx,Nx)), (1,1), (1,1));\n",
    "\n",
    "for K = 1:Nx\n",
    "  view(A,Block(K,K))[band(1)] .= 1\n",
    "  view(A,Block(K,K))[band(0)] .= -4\n",
    "  view(A,Block(K,K))[band(-1)] .= 1\n",
    "end\n",
    "\n",
    "A"
   ]
  },
  {
   "cell_type": "code",
   "execution_count": 5,
   "metadata": {},
   "outputs": [
    {
     "name": "stdout",
     "output_type": "stream",
     "text": [
      "(1000000, 1000000)  7.023606 seconds (36.10 M allocations: 1.991 GiB, 9.56% gc time)\n",
      "  1.386930 seconds (6.69 M allocations: 573.372 MiB, 16.17% gc time)\n",
      "  1.256846 seconds (20.19 M allocations: 1.383 GiB, 11.06% gc time)\n",
      "  6.257076 seconds (9.42 M allocations: 452.671 MiB, 3.73% gc time)\n",
      "  2.630093 seconds (31.35 M allocations: 2.571 GiB, 19.86% gc time)\n",
      "  0.529952 seconds (18.05 k allocations: 368.070 MiB, 50.03% gc time)\n",
      "  2.198715 seconds (4.56 M allocations: 374.844 MiB, 9.39% gc time)\n"
     ]
    },
    {
     "data": {
      "text/plain": [
       "1000000-element Array{Float64,1}:\n",
       " -0.273801966701004   \n",
       " -0.5581072747823461  \n",
       "  0.08798744257996102 \n",
       " -0.6735076179807108  \n",
       " -0.7142173399584678  \n",
       " -0.6941527365078184  \n",
       "  0.32505011784169846 \n",
       "  0.07118191397160434 \n",
       " -0.09464542232060386 \n",
       "  0.08306115928007168 \n",
       " -0.048591535472060375\n",
       " -0.39775821695291125 \n",
       " -0.6859463915549139  \n",
       "  ⋮                   \n",
       "  0.30506377591768624 \n",
       "  0.5816303319338024  \n",
       "  0.021107702034665957\n",
       " -0.5461507505094942  \n",
       " -0.17277925413423356 \n",
       " -0.8018530275620703  \n",
       " -0.8393291655910169  \n",
       " -0.9650549052468137  \n",
       " -0.7608609280186734  \n",
       " -0.5860370094932068  \n",
       "  0.019687785639934133\n",
       " -0.3626708803167068  "
      ]
     },
     "execution_count": 5,
     "metadata": {},
     "output_type": "execute_result"
    }
   ],
   "source": [
    "n = 1000;\n",
    "Δt = (1/n^2)/4; \n",
    "\n",
    "@time Δ = finitedifference_2d(n);\n",
    "@time A = I - Δt*Δ  # 1m x 1m discretization\n",
    "b = randn(n^2)\n",
    "L = LowerTriangular(A)\n",
    "@time U = BandedBlockBandedMatrix(UpperTriangular(@view(A[1:end-1,2:end])), ([fill(n,n-1); n-1], [n-1; fill(n,n-1)]),\n",
    "                                        (0,1), (0,1))\n",
    "x = copy(b)\n",
    "y = copy(x)\n",
    "@time _gaussseidel(L,U, b, x, y, 20) # 0.4s\n",
    "\n",
    "@time L̃ = sparse(BandedBlockBandedMatrix(L))\n",
    "@time Ũ = sparse(U)\n",
    "x = copy(b)\n",
    "y = copy(x)\n",
    "@time _gaussseidel2(L̃,Ũ, b, x, y, 20)\n",
    "\n",
    "#=\n",
    "Ã = sparse(A)\n",
    "@time qr(Ã);\n",
    "@time Ã \\b ;\n",
    "\n",
    "A = randn(n,n)\n",
    "\n",
    "n = 1000;\n",
    "    As = [randn(2k+1,k) for k=1:n];\n",
    "\n",
    "    @time for A in As\n",
    "        qr(A)\n",
    "    end\n",
    "n = 1000;\n",
    "    # As = [randn(2k+1,k) for k=1:n];\n",
    "\n",
    "    @time for A in As\n",
    "        lu(A)\n",
    "    end\n",
    "\n",
    "0.02*n\n",
    "=#"
   ]
  },
  {
   "cell_type": "code",
   "execution_count": null,
   "metadata": {},
   "outputs": [],
   "source": [
    "A*x - b\n",
    "\n",
    "\n",
    "\n",
    "x̃ = copy(x)\n",
    "ỹ = copy(y)\n",
    "\n",
    "@view(y[1:end-1]) .= Mul(U , @view(x[2:end]))\n",
    "\n",
    "mul!(@view(ỹ[1:end-1]) , Ũ , @view(x̃[2:end]))\n",
    "y[end] = 0\n",
    "ỹ[end] = 0\n",
    "x = copy(b)\n",
    "    y = copy(x)\n",
    "    _gaussseidel(L,U, b, x, y, 1) - x_bb\n",
    "\n",
    "x .= b .- y\n",
    "ỹ .= b .- ỹ\n",
    "x .= Ldiv(L, x)\n",
    "\n",
    "x̃ .= L̃ \\ ỹ\n",
    "\n",
    "\n",
    "x - x_bb\n",
    "\n",
    "x̃-x\n",
    "\n",
    "\n",
    "\n",
    "(L̃ \\ x) - (L \\ x)\n",
    "\n",
    "ỹ - y |> norm\n",
    "x - x_bb\n",
    "\n",
    "A*x - b\n",
    "\n",
    "\n",
    "L̃ == L\n",
    "Ũ == U\n",
    "\n",
    "norm(A*x - b)\n",
    "@time\n",
    "\n",
    "\n",
    "@time copy(x)\n",
    "L̃ = sparse(L)\n",
    "Ũ = sparse(U)\n",
    "\n",
    "\n",
    "\n",
    "\n",
    "y = x[1:end-1]\n",
    "z = similar(y)\n",
    "@time z .= Mul(U,y)\n",
    "y = similar(x)\n",
    "@time (@view(y[1:end-1]) .= Mul(U , @view(x[2:end])))\n",
    "y[end] = 0\n",
    "@time x .= b .- y\n",
    "@time x .= Ldiv(L, x)\n",
    "A = randn(9,40_000);\n",
    "    @time A*x;\n",
    "\n",
    "A\n",
    "S = sparse(A);\n",
    "\n",
    "400^2\n",
    "\n",
    "@time L\\x\n",
    "\n",
    "\n",
    "h = 1/n\n",
    "    @time D² = BandedMatrix(0 => Fill(-2,n), 1 => Fill(1,n-1), -1 => Fill(1,n-1))/h^2\n",
    "    @time D_xx = BandedBlockBandedMatrix(Kron(D², Eye(n)))\n",
    "    @time D_yy = BandedBlockBandedMatrix(Kron(Eye(n), D²))\n",
    "    @time D_xx .+ D_yy\n",
    "    4\n",
    "\n",
    "\n",
    "\n",
    "using Profile\n",
    "dest = Δ;\n",
    "    @time BlockBandedMatrices.blockbanded_copyto!(dest, D_yy)\n",
    "    view(dest, Block(1,1)) .= view(dest, Block(1,1)) .+ view(D_yy, Block(1,1))\n",
    "D_yy\n",
    "@time copyto!(dest, Broadcast.broadcasted(+, D_xx , D_yy))\n",
    "\n",
    "\n",
    "using FFTW\n",
    "A = randn(400, 400);\n",
    "    @time fft(A);\n",
    "dest[Block(1,1)]"
   ]
  },
  {
   "cell_type": "code",
   "execution_count": 6,
   "metadata": {},
   "outputs": [
    {
     "data": {
      "image/png": "[encoded data removed]",
      "text/plain": [
       "Figure(PyObject <Figure size 640x480 with 1 Axes>)"
      ]
     },
     "metadata": {},
     "output_type": "display_data"
    },
    {
     "data": {
      "text/plain": [
       "PyObject <matplotlib.collections.QuadMesh object at 0x000000006945FB70>"
      ]
     },
     "execution_count": 6,
     "metadata": {},
     "output_type": "execute_result"
    }
   ],
   "source": [
    "using PyPlot\n",
    "n = 1000\n",
    "Δt = 10000(1/n^2)/4; \n",
    "σx = 20;\n",
    "σy = 20;\n",
    "array = 5;\n",
    "dn = n/array;\n",
    "\n",
    "function bi(i,j)\n",
    "    return b = [exp(-(x-i)^2/σx^2 - (y-j)^2/σy^2) for x in 1:n, y in 1:n]\n",
    "end\n",
    "\n",
    "b = zeros(n,n)\n",
    "\n",
    "for i in 1:array, j in 1:array\n",
    "    b += bi(dn*(i-1/2),dn*(j-1/2));\n",
    "end\n",
    "\n",
    "pcolormesh(b)"
   ]
  },
  {
   "cell_type": "code",
   "execution_count": 9,
   "metadata": {},
   "outputs": [
    {
     "name": "stdout",
     "output_type": "stream",
     "text": [
      "(1000000, 1000000)  1.123218 seconds (24.06 M allocations: 1.456 GiB, 24.60% gc time)\n",
      "  0.493667 seconds (4.10 M allocations: 447.630 MiB, 43.30% gc time)\n",
      "  0.799841 seconds (18.98 M allocations: 1.325 GiB, 15.18% gc time)\n",
      "  1.966741 seconds (29.99 M allocations: 2.518 GiB, 25.93% gc time)\n",
      "  0.556044 seconds (18.05 k allocations: 368.070 MiB, 53.98% gc time)"
     ]
    },
    {
     "data": {
      "image/png": "[encoded data removed]",
      "text/plain": [
       "Figure(PyObject <Figure size 640x480 with 1 Axes>)"
      ]
     },
     "metadata": {},
     "output_type": "display_data"
    },
    {
     "name": "stdout",
     "output_type": "stream",
     "text": [
      "\n",
      "  6.074000 seconds (1.00 k allocations: 1.490 GiB, 4.95% gc time)\n"
     ]
    },
    {
     "data": {
      "text/plain": [
       "89.18750863532622"
      ]
     },
     "execution_count": 9,
     "metadata": {},
     "output_type": "execute_result"
    }
   ],
   "source": [
    "c = reshape(b,n^2)\n",
    "@time Δ = finitedifference_2d(n);\n",
    "@time A = I - Δt*Δ  # 1m x 1m discretization\n",
    "L = LowerTriangular(A)\n",
    "@time U = BandedBlockBandedMatrix(UpperTriangular(@view(A[1:end-1,2:end])), ([fill(n,n-1); n-1], [n-1; fill(n,n-1)]),\n",
    "                                        (0,1), (0,1))\n",
    "@time L̃ = sparse(BandedBlockBandedMatrix(L))\n",
    "@time Ũ = sparse(U)\n",
    "x = copy(c)\n",
    "y = copy(x)\n",
    "f = @time _gaussseidel2(L̃,Ũ, c, x, y, 200)\n",
    "r = reshape(f,(n,n))\n",
    "pcolormesh(r)\n",
    "norm(f)"
   ]
  },
  {
   "cell_type": "code",
   "execution_count": 10,
   "metadata": {},
   "outputs": [
    {
     "data": {
      "text/plain": [
       "125.33141373155001"
      ]
     },
     "execution_count": 10,
     "metadata": {},
     "output_type": "execute_result"
    }
   ],
   "source": [
    "norm(c)"
   ]
  },
  {
   "cell_type": "code",
   "execution_count": null,
   "metadata": {},
   "outputs": [],
   "source": [
    "Int.(ones(1,N))"
   ]
  },
  {
   "cell_type": "code",
   "execution_count": null,
   "metadata": {},
   "outputs": [],
   "source": [
    "T = Array{Int64,1}(undef,4)\n",
    "3 .+ T"
   ]
  },
  {
   "cell_type": "code",
   "execution_count": null,
   "metadata": {},
   "outputs": [],
   "source": [
    "finitedifference_2d(n)"
   ]
  },
  {
   "cell_type": "code",
   "execution_count": null,
   "metadata": {},
   "outputs": [],
   "source": []
  }
 ],
 "metadata": {
  "kernelspec": {
   "display_name": "Julia 1.2.0",
   "language": "julia",
   "name": "julia-1.2"
  },
  "language_info": {
   "file_extension": ".jl",
   "mimetype": "application/julia",
   "name": "julia",
   "version": "1.2.0"
  }
 },
 "nbformat": 4,
 "nbformat_minor": 2
}
