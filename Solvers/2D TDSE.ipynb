{
 "cells": [
  {
   "cell_type": "code",
   "execution_count": 1,
   "metadata": {
    "scrolled": false
   },
   "outputs": [
    {
     "data": {
      "text/plain": [
       "bi (generic function with 1 method)"
      ]
     },
     "execution_count": 1,
     "metadata": {},
     "output_type": "execute_result"
    }
   ],
   "source": [
    "using LinearAlgebra\n",
    "#using DiffEqOperators\n",
    "using LazyArrays\n",
    "using BlockBandedMatrices, BandedMatrices, FillArrays, ArrayLayouts, SparseArrays\n",
    "using LazyBandedMatrices\n",
    "\n",
    "function _gaussseidel2(L, U, b, x=copy(b), y=copy(b), M=5)\n",
    "    for _=1:M\n",
    "        mul!(@view(y[1:end-1]) , U , @view(x[2:end]))\n",
    "        y[end] = 0\n",
    "        y .= b .- y\n",
    "        x .= L\\ y\n",
    "    end\n",
    "    x\n",
    "end\n",
    "\n",
    "function ham_2d_old(n, m, Vij)\n",
    "    h = 1/n\n",
    "    D = 0.0*BandedBlockBandedMatrix(Zeros(n^2,n^2), (Fill(n,n), Fill(n,n)), (1,1), (1,1))\n",
    "    \n",
    "    #Do block (1,1) diagonal entry\n",
    "    view(D,Block(1,1))[band(0)] = Vij[1,:] .+ 2m\n",
    "    view(D,Block(1,1))[band(1)] .= -1m\n",
    "    view(D,Block(1,1))[band(-1)] .= -1m\n",
    "    \n",
    "    #Loop over diagonals and off-diagonals\n",
    "    for K = 2:n\n",
    "      view(D,Block(K,K))[band(1)] .= -1m\n",
    "      view(D,Block(K,K))[band(0)] = Vij[K,:] .+ 2m\n",
    "      view(D,Block(K,K))[band(-1)] .= -1m\n",
    "      view(D,Block(K,K-1))[band(0)] .= -1m\n",
    "      view(D,Block(K-1,K))[band(0)] .= -1m\n",
    "    end\n",
    "    D\n",
    "end\n",
    "\n",
    "function finitedifference_2d(n)\n",
    "    h = 1/n\n",
    "    D² = BandedMatrix(0 => Fill(-2,n), 1 => Fill(1,n-1), -1 => Fill(1,n-1))/h^2\n",
    "    D_xx = BandedBlockBandedMatrix(Kron(D², Eye(n)))\n",
    "    D_yy = BandedBlockBandedMatrix(Kron(Eye(n), D²))\n",
    "    D_xx + D_yy\n",
    "end\n",
    "\n",
    "function finitedifference_2d_upper(n, D, U = copy(D))\n",
    "    view(U,Block(1,1))[band(0)] = Fill(0, n)\n",
    "    view(U,Block(1,1))[band(-1)] = Fill(0, n-1)\n",
    "    \n",
    "    for i = 2:n\n",
    "        view(U,Block(i,i))[band(0)] = Fill(0, n)\n",
    "        view(U,Block(i,i))[band(-1)] = Fill(0, n-1)\n",
    "        view(U,Block(i,i-1))[band(0)] = Fill(0, n)\n",
    "        view(U,Block(i,i-1))[band(-1)] = Fill(0, n-1)\n",
    "        view(U,Block(i,i-1))[band(1)] = Fill(0, n-1)\n",
    "    end\n",
    "    U\n",
    "end\n",
    "\n",
    "#Feed in potential vector, D::BandedBlockBandedMatrix ,Ham::BandedBlockBandedMatrix, \n",
    "# m is the dt\n",
    "#Returns what is almost the U1, U2 matrices \n",
    "function ham_2d(n, dt, Vij, D, Ham=copy(D))\n",
    "    #add potential to the diagonal\n",
    "    Ham = dt*1im/2.0*(Ham + Vij)\n",
    "end\n",
    "\n",
    "#Define U1, Vij is expected matrix format. F is the finite difference\n",
    "#term from the spatial derivative, V is the on-site potential.\n",
    "function U1(n, Vij, dt)\n",
    "    F = finitedifference_2d(n,-dt/2);\n",
    "    V = BandedMatrix(0 => dt/2.0.*Vij);\n",
    "    U1 = BandedMatrix(I + F + V)\n",
    "end\n",
    "\n",
    "#Potential energy function for Harmonic Oscillator HO\n",
    "function V_HO(x, y, w)\n",
    "    V = w^2 .*(x.^2 .+ y.^2)\n",
    "end\n",
    "\n",
    "function get_Vij_HO(n, x_max, w, V_vec, V)\n",
    "    dx = 2*x_max/(n-1);\n",
    "    #V_mat = [V_HO(i,j,w) for i in -x_max:dx:x_max, j in -x_max:dx:x_max]\n",
    "    \n",
    "    for i in 1:n\n",
    "        V_vec = V_HO(i,-x_max:dx:x_max,w)\n",
    "        view(V,Block(i,i))[band(0)] = V_vec\n",
    "    end\n",
    "    V\n",
    "end\n",
    "\n",
    "function bi(i,j)\n",
    "    return b = [exp(-(x-i)^2/σx^2 - (y-j)^2/σy^2) for x in 1:n, y in 1:n]\n",
    "end"
   ]
  },
  {
   "cell_type": "code",
   "execution_count": 41,
   "metadata": {
    "scrolled": true
   },
   "outputs": [
    {
     "ename": "BoundsError",
     "evalue": "BoundsError: attempt to access 50-element Array{Int64,1} at index [101]",
     "output_type": "error",
     "traceback": [
      "BoundsError: attempt to access 50-element Array{Int64,1} at index [101]",
      "",
      "Stacktrace:",
      " [1] nnz at .\\array.jl:728 [inlined]",
      " [2] show at C:\\cygwin\\home\\Administrator\\buildbot\\worker\\package_win64\\build\\usr\\share\\julia\\stdlib\\v1.2\\SparseArrays\\src\\sparsematrix.jl:155 [inlined]",
      " [3] limitstringmime(::MIME{Symbol(\"text/plain\")}, ::SparseMatrixCSC{Float64,Int64}) at C:\\Users\\Richard Parker\\.julia\\packages\\IJulia\\fRegO\\src\\inline.jl:37",
      " [4] display_mimestring(::MIME{Symbol(\"text/plain\")}, ::SparseMatrixCSC{Float64,Int64}) at C:\\Users\\Richard Parker\\.julia\\packages\\IJulia\\fRegO\\src\\display.jl:67",
      " [5] display_dict(::SparseMatrixCSC{Float64,Int64}) at C:\\Users\\Richard Parker\\.julia\\packages\\IJulia\\fRegO\\src\\display.jl:96",
      " [6] #invokelatest#1 at .\\essentials.jl:790 [inlined]",
      " [7] invokelatest at .\\essentials.jl:789 [inlined]",
      " [8] execute_request(::ZMQ.Socket, ::IJulia.Msg) at C:\\Users\\Richard Parker\\.julia\\packages\\IJulia\\fRegO\\src\\execute_request.jl:112",
      " [9] #invokelatest#1 at .\\essentials.jl:790 [inlined]",
      " [10] invokelatest at .\\essentials.jl:789 [inlined]",
      " [11] eventloop(::ZMQ.Socket) at C:\\Users\\Richard Parker\\.julia\\packages\\IJulia\\fRegO\\src\\eventloop.jl:8",
      " [12] (::getfield(IJulia, Symbol(\"##15#18\")))() at .\\task.jl:268"
     ]
    }
   ],
   "source": [
    "n = 10;\n",
    "x_max = 1;\n",
    "w = 1.;\n",
    "dt = 0.1;\n",
    "V_vec = Zeros(n)\n",
    "Vij = BandedBlockBandedMatrix(Kron(Eye(n),Eye(n)))\n",
    "L̃ = 1.0im * spzeros(n^2,n^2)\n",
    "v1 = rand(n^2)\n",
    "v2 = copy(v1)\n",
    "v2 = Int.(1:n^2)\n",
    "\n",
    "#@time L̃ = sparse(BandedMatrix(0 => Complex.(Fill(1,n^2)), \n",
    "#        -1 => Complex.(Fill(1, n^2-1)), -n => Complex.(Fill(1, n*(n-1)))))\n",
    "#promote_type(eltype(v2))\n",
    "my_spm_diag1 = SparseMatrixCSC(n^2,n^2,v2[1:Int(n^2/2)],v2[1:Int(n^2/2)],v1)\n",
    "#my_spm_diag2 = SparseMatrixCSC(4,4,v1,v2,v2)\n",
    "#println(size(L̃))\n",
    "#=\n",
    "σx = 200;\n",
    "σy = 200;\n",
    "array = 1;\n",
    "dn = n/array;\n",
    "b = zeros(n,n)\n",
    "\n",
    "\n",
    "#initial state\n",
    "for i in 1:array, j in 1:array\n",
    "    b += bi(dn*(i-1/2),dn*(j-1/2));\n",
    "end\n",
    "\n",
    "ψ_init = Complex.(reshape(b,n^2))\n",
    "\n",
    "println(\"Preparing matrices...\")\n",
    "\n",
    "Deriv = finitedifference_2d(n)\n",
    "Upper_Diagonal = copy(Deriv)\n",
    "Upper_Diagonal = finitedifference_2d_upper(n,Deriv,Upper_Diagonal)\n",
    "\n",
    "Ham = copy(Deriv)\n",
    "Vij = get_Vij_HO(n,x_max,w,V_vec,Vij)\n",
    "Ham = ham_2d(n,dt,Vij,Deriv,Ham)\n",
    "U_1 = I + Ham\n",
    "U_2 = I - Ham\n",
    "\n",
    "@time L = sparse(U_1 - Upper_Diagonal)\n",
    "#@time L = LowerTriangular(U_1)\n",
    "#@time L1 = sparse(U_1)\n",
    "#@time L̃ .= sparse(L)\n",
    "#print(size(L̃))\n",
    "\n",
    "U = sparse(BandedBlockBandedMatrix(UpperTriangular(@view(U_1[1:end-1,2:end])), ([fill(n,n-1); n-1], [n-1; fill(n,n-1)]),\n",
    "                                        (0,1), (0,1)))\n",
    "\n",
    "U2ψ = U_2*ψ_init\n",
    "x = copy(U2ψ)\n",
    "y = copy(U2ψ)\n",
    "\n",
    "print(\"Beginning integration...\")\n",
    "@time ψ_fin = _gaussseidel2(L,U, U2ψ, x, y, 2)\n",
    "=#"
   ]
  },
  {
   "cell_type": "code",
   "execution_count": 14,
   "metadata": {},
   "outputs": [
    {
     "data": {
      "text/plain": [
       "Figure(PyObject <Figure size 640x480 with 1 Axes>)"
      ]
     },
     "metadata": {},
     "output_type": "display_data"
    },
    {
     "data": {
      "text/plain": [
       "PyObject <matplotlib.collections.QuadMesh object at 0x000000006883FBA8>"
      ]
     },
     "execution_count": 14,
     "metadata": {},
     "output_type": "execute_result"
    }
   ],
   "source": [
    "using PyPlot\n",
    "\n",
    "pcolormesh(reshape(ψ_init,n,n))"
   ]
  },
  {
   "cell_type": "code",
   "execution_count": null,
   "metadata": {},
   "outputs": [],
   "source": []
  },
  {
   "cell_type": "code",
   "execution_count": null,
   "metadata": {},
   "outputs": [],
   "source": []
  },
  {
   "cell_type": "code",
   "execution_count": null,
   "metadata": {},
   "outputs": [],
   "source": []
  },
  {
   "cell_type": "code",
   "execution_count": null,
   "metadata": {},
   "outputs": [],
   "source": []
  }
 ],
 "metadata": {
  "kernelspec": {
   "display_name": "Julia 1.2.0",
   "language": "julia",
   "name": "julia-1.2"
  },
  "language_info": {
   "file_extension": ".jl",
   "mimetype": "application/julia",
   "name": "julia",
   "version": "1.2.0"
  }
 },
 "nbformat": 4,
 "nbformat_minor": 2
}
